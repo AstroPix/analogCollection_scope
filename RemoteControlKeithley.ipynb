{
 "cells": [
  {
   "cell_type": "markdown",
   "id": "07fd4135",
   "metadata": {},
   "source": [
    "# Remote control and recording of Keithley 2450 Source Meter"
   ]
  },
  {
   "cell_type": "markdown",
   "id": "4f86d29a",
   "metadata": {},
   "source": [
    "## Imports"
   ]
  },
  {
   "cell_type": "code",
   "execution_count": 1,
   "id": "7ba6742d",
   "metadata": {},
   "outputs": [],
   "source": [
    "import pyKeithleyCtl as RC\n",
    "import matplotlib\n",
    "import matplotlib.pyplot as plt\n",
    "\n",
    "%matplotlib inline\n",
    "\n",
    "import numpy as np\n",
    "import pandas as pd\n",
    "\n",
    "from datetime import datetime"
   ]
  },
  {
   "cell_type": "markdown",
   "id": "f6959870",
   "metadata": {},
   "source": [
    "## Settings"
   ]
  },
  {
   "cell_type": "code",
   "execution_count": 2,
   "id": "39ab3c61",
   "metadata": {},
   "outputs": [
    {
     "name": "stdout",
     "output_type": "stream",
     "text": [
      "Timestamp: 22-04-01_17-15-22\n"
     ]
    }
   ],
   "source": [
    "Keithley_IP = \"169.254.127.39\"\n",
    "BiasHV = -4.2 #in Volt\n",
    "maxCurrent = 0.001 #in Ampere\n",
    "fileName=\"test\"\n",
    "\n",
    "now=datetime.now()\n",
    "timestamp = now.strftime(\"%y-%m-%d_%H-%M-%S\")\n",
    "print(\"Timestamp:\", timestamp)"
   ]
  },
  {
   "cell_type": "markdown",
   "id": "4572befe",
   "metadata": {},
   "source": [
    "## Connect and set up"
   ]
  },
  {
   "cell_type": "code",
   "execution_count": 3,
   "id": "e59ad7c1",
   "metadata": {},
   "outputs": [
    {
     "name": "stdout",
     "output_type": "stream",
     "text": [
      "Source Meter Info\n",
      "Identification: KEITHLEY INSTRUMENTS,MODEL 2450,04418791,1.6.7c\n",
      "Our access level: FULL\n"
     ]
    }
   ],
   "source": [
    "PS = RC.KeithleySupply(Keithley_IP)\n",
    "PS.clear()\n",
    "PS.reset()\n",
    "\n",
    "PS.set_voltage(BiasHV)\n",
    "PS.set_ocp(maxCurrent)\n",
    "\n",
    "print(\"Source Meter Info\")\n",
    "print(\"Identification:\", PS.IDN)\n",
    "print(\"Our access level:\", PS.ask(\":SYSTEM:ACCESS?\") )"
   ]
  },
  {
   "cell_type": "markdown",
   "id": "a861b5d3",
   "metadata": {},
   "source": [
    "## Dump information\n",
    "\n",
    "Use this to get a current reading of the set and actual voltage and current. **Do not call while a measurement is being taken!**"
   ]
  },
  {
   "cell_type": "code",
   "execution_count": 6,
   "id": "877f012c",
   "metadata": {},
   "outputs": [
    {
     "name": "stdout",
     "output_type": "stream",
     "text": [
      "Set voltage:      -4.2 V\n",
      "Measured voltage: -4.199991E+00 V\n",
      "Max current:      0.001 A\n",
      "Measured current: -1.363682E-12 A\n"
     ]
    }
   ],
   "source": [
    "print(\"Set voltage:     \", PS.get_voltage(), \"V\")\n",
    "print(\"Measured voltage:\", PS.measure_voltage(), \"V\")\n",
    "print(\"Max current:     \", PS.get_ocp(), \"A\")\n",
    "print(\"Measured current:\", PS.measure_current(), \"A\")"
   ]
  },
  {
   "cell_type": "markdown",
   "id": "8cdc2346",
   "metadata": {},
   "source": [
    "## Power up"
   ]
  },
  {
   "cell_type": "code",
   "execution_count": 5,
   "id": "5b8a22fc",
   "metadata": {},
   "outputs": [
    {
     "data": {
      "text/plain": [
       "13"
      ]
     },
     "execution_count": 5,
     "metadata": {},
     "output_type": "execute_result"
    }
   ],
   "source": [
    "PS.enable_output()"
   ]
  },
  {
   "cell_type": "markdown",
   "id": "b5bc1b8f",
   "metadata": {},
   "source": [
    "## Start measurements\n",
    "\n",
    "Measured current is saved in internal buffer. **Do not execute any other cells while the measurements are being taken.** "
   ]
  },
  {
   "cell_type": "code",
   "execution_count": 7,
   "id": "89c769d4",
   "metadata": {},
   "outputs": [],
   "source": [
    "PS.start_measurement()"
   ]
  },
  {
   "cell_type": "markdown",
   "id": "9c6e3829",
   "metadata": {},
   "source": [
    "## Stop measurements\n",
    "\n",
    "**Call this one first after the cell above.** Stops active measurement, transfers buffer over to laptop, and saves data to file."
   ]
  },
  {
   "cell_type": "code",
   "execution_count": 8,
   "id": "366abd11",
   "metadata": {},
   "outputs": [
    {
     "name": "stdout",
     "output_type": "stream",
     "text": [
      "42\n"
     ]
    }
   ],
   "source": [
    "data, nRow = PS.stop_measurement()"
   ]
  },
  {
   "cell_type": "code",
   "execution_count": 9,
   "id": "11c16103",
   "metadata": {},
   "outputs": [
    {
     "name": "stdout",
     "output_type": "stream",
     "text": [
      "Received 42 measurements. Saving to test_raw_22-04-01_17-15-22.txt.\n"
     ]
    }
   ],
   "source": [
    "raw_output_name = f\"{fileName}_raw_{timestamp}.txt\"\n",
    "text_file = open(raw_output_name, \"w\")\n",
    "text_file.write(data)\n",
    "text_file.close()\n",
    "print(f\"Received {nRow} measurements. Saving to {raw_output_name}.\")"
   ]
  },
  {
   "cell_type": "markdown",
   "id": "760cf335",
   "metadata": {},
   "source": [
    "## Power down"
   ]
  },
  {
   "cell_type": "code",
   "execution_count": 10,
   "id": "98593dbe",
   "metadata": {},
   "outputs": [
    {
     "data": {
      "text/plain": [
       "14"
      ]
     },
     "execution_count": 10,
     "metadata": {},
     "output_type": "execute_result"
    }
   ],
   "source": [
    "PS.disable_output()"
   ]
  },
  {
   "cell_type": "markdown",
   "id": "c86fea0c",
   "metadata": {},
   "source": [
    "## Plot and save results"
   ]
  },
  {
   "cell_type": "code",
   "execution_count": 14,
   "id": "4e9145b7",
   "metadata": {},
   "outputs": [
    {
     "data": {
      "text/plain": [
       "Text(0, 0.5, 'Current [A]')"
      ]
     },
     "execution_count": 14,
     "metadata": {},
     "output_type": "execute_result"
    },
    {
     "data": {
      "image/png": "[encoded data removed]",
      "text/plain": [
       "<Figure size 432x288 with 1 Axes>"
      ]
     },
     "metadata": {
      "needs_background": "light"
     },
     "output_type": "display_data"
    }
   ],
   "source": [
    "results = PS.to_csv(data, nRow)\n",
    "csv_output_name = f\"{fileName}_table_{timestamp}.csv\"\n",
    "results.to_csv(csv_output_name)\n",
    "plt.plot(results.REL, results.READ)\n",
    "plt.xlabel(\"Time [s]\")\n",
    "plt.ylabel(\"Current [A]\")"
   ]
  },
  {
   "cell_type": "markdown",
   "id": "25a16424",
   "metadata": {},
   "source": [
    "## Close connection"
   ]
  },
  {
   "cell_type": "code",
   "execution_count": 15,
   "id": "05d8d636",
   "metadata": {},
   "outputs": [],
   "source": [
    "PS.close()"
   ]
  },
  {
   "cell_type": "code",
   "execution_count": null,
   "id": "c998f88d",
   "metadata": {},
   "outputs": [],
   "source": []
  }
 ],
 "metadata": {
  "kernelspec": {
   "display_name": "Python 3 (ipykernel)",
   "language": "python",
   "name": "python3"
  },
  "language_info": {
   "codemirror_mode": {
    "name": "ipython",
    "version": 3
   },
   "file_extension": ".py",
   "mimetype": "text/x-python",
   "name": "python",
   "nbconvert_exporter": "python",
   "pygments_lexer": "ipython3",
   "version": "3.9.7"
  }
 },
 "nbformat": 4,
 "nbformat_minor": 5
}
